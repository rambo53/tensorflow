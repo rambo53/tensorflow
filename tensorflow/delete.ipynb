{
 "cells": [
  {
   "cell_type": "code",
   "execution_count": 5,
   "id": "a9bcf36f",
   "metadata": {},
   "outputs": [
    {
     "data": {
      "text/html": [
       "<div>\n",
       "<style scoped>\n",
       "    .dataframe tbody tr th:only-of-type {\n",
       "        vertical-align: middle;\n",
       "    }\n",
       "\n",
       "    .dataframe tbody tr th {\n",
       "        vertical-align: top;\n",
       "    }\n",
       "\n",
       "    .dataframe thead th {\n",
       "        text-align: right;\n",
       "    }\n",
       "</style>\n",
       "<table border=\"1\" class=\"dataframe\">\n",
       "  <thead>\n",
       "    <tr style=\"text-align: right;\">\n",
       "      <th></th>\n",
       "      <th>mois_annee</th>\n",
       "      <th>date</th>\n",
       "      <th>heure_arrive</th>\n",
       "      <th>heure_depart</th>\n",
       "      <th>nb_heures</th>\n",
       "      <th>cout_indemnite</th>\n",
       "    </tr>\n",
       "  </thead>\n",
       "  <tbody>\n",
       "    <tr>\n",
       "      <th>0</th>\n",
       "      <td>2023-01</td>\n",
       "      <td>2023-01-02</td>\n",
       "      <td>08:30</td>\n",
       "      <td>16:15</td>\n",
       "      <td>7:45:00</td>\n",
       "      <td>3.11</td>\n",
       "    </tr>\n",
       "    <tr>\n",
       "      <th>1</th>\n",
       "      <td>2023-01</td>\n",
       "      <td>2023-01-03</td>\n",
       "      <td>10:45</td>\n",
       "      <td>18:30</td>\n",
       "      <td>7:45:00</td>\n",
       "      <td>3.11</td>\n",
       "    </tr>\n",
       "  </tbody>\n",
       "</table>\n",
       "</div>"
      ],
      "text/plain": [
       "  mois_annee       date heure_arrive heure_depart nb_heures  cout_indemnite\n",
       "0    2023-01 2023-01-02        08:30        16:15   7:45:00            3.11\n",
       "1    2023-01 2023-01-03        10:45        18:30   7:45:00            3.11"
      ]
     },
     "execution_count": 5,
     "metadata": {},
     "output_type": "execute_result"
    }
   ],
   "source": [
    "import pandas as pd\n",
    "\n",
    "df = pd.read_csv(\"historique.csv\", sep=\";\")\n",
    "\n",
    "#df[\"date\"]\n",
    "df[\"date\"] = df[\"date\"].astype('datetime64[ns]')\n",
    "df.sort_values(by='date', ignore_index=True)\n",
    "df"
   ]
  },
  {
   "cell_type": "code",
   "execution_count": null,
   "id": "0638e439",
   "metadata": {},
   "outputs": [],
   "source": []
  }
 ],
 "metadata": {
  "kernelspec": {
   "display_name": "Python 3 (ipykernel)",
   "language": "python",
   "name": "python3"
  },
  "language_info": {
   "codemirror_mode": {
    "name": "ipython",
    "version": 3
   },
   "file_extension": ".py",
   "mimetype": "text/x-python",
   "name": "python",
   "nbconvert_exporter": "python",
   "pygments_lexer": "ipython3",
   "version": "3.9.7"
  }
 },
 "nbformat": 4,
 "nbformat_minor": 5
}
