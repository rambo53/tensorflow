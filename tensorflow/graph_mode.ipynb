{
 "cells": [
  {
   "cell_type": "code",
   "execution_count": 20,
   "id": "44240650",
   "metadata": {},
   "outputs": [],
   "source": [
    "import tensorflow as tf\n",
    "import numpy as np"
   ]
  },
  {
   "cell_type": "code",
   "execution_count": 21,
   "id": "0fa13358",
   "metadata": {},
   "outputs": [],
   "source": [
    "# Flatten\n",
    "model = tf.keras.models.Sequential()\n",
    "# Add layers\n",
    "model.add(tf.keras.layers.Dense(256, activation=\"relu\"))\n",
    "model.add(tf.keras.layers.Dense(128, activation=\"relu\"))\n",
    "model.add(tf.keras.layers.Dense(2, activation=\"softmax\"))"
   ]
  },
  {
   "cell_type": "code",
   "execution_count": 22,
   "id": "d531a8fb",
   "metadata": {},
   "outputs": [],
   "source": [
    "# The loss method\n",
    "# je crée mon propre loss plutot que d'utiliser la variable loss au sein de model.compil\n",
    "loss_object = tf.keras.losses.SparseCategoricalCrossentropy()\n",
    "# The optimize\n",
    "# sélectionne la méthode de gradient à utiliser pour réduire l'erreur\n",
    "optimizer = tf.keras.optimizers.Adam()\n",
    "# This metrics is used to track the progress of the training loss during the training\n",
    "# pour observer l'évolution de mon erreur et enregistrer les erreurs relevés à chaque boucles au sein de mon epoch\n",
    "train_loss = tf.keras.metrics.Mean(name='train_loss')"
   ]
  },
  {
   "cell_type": "code",
   "execution_count": 23,
   "id": "4c953765",
   "metadata": {},
   "outputs": [],
   "source": [
    "@tf.function\n",
    "def train_step(image, targets):\n",
    "    # avec with on peut capturer tout ce qui se passe pour calculer le gradient\n",
    "    with tf.GradientTape() as tape:\n",
    "        # Make a prediction\n",
    "        predictions = model(image)\n",
    "        # Get the error/loss using the loss_object previously defined\n",
    "        loss = loss_object(targets, predictions)\n",
    "    # Compute the gradient which respect to the loss\n",
    "    # mes gradients seront mes poids modifiable, ici j'ai 30 entrées dans images analysé pas 256 neurones sur le premier layer\n",
    "    # puis 256 valeurs analysées par 128 neurones sur mon deuxième layer et enfin 128 valeurs analysées par 2 neurones \n",
    "    # avant la sortie de la valeur\n",
    "    gradients = tape.gradient(loss, model.trainable_variables)\n",
    "    # Change the weights of the model\n",
    "    # pour lier chaques gradient avec les variables du modèle\n",
    "    optimizer.apply_gradients(zip(gradients, model.trainable_variables))\n",
    "    # The metrics are accumulate over time. You don't need to average it yourself.\n",
    "    train_loss(loss)"
   ]
  },
  {
   "cell_type": "code",
   "execution_count": 24,
   "id": "86760db0",
   "metadata": {},
   "outputs": [
    {
     "name": "stdout",
     "output_type": "stream",
     "text": [
      "Loss:  tf.Tensor(0.20883875, shape=(), dtype=float32)\n",
      "Loss:  tf.Tensor(0.005423023, shape=(), dtype=float32)\n",
      "Loss:  tf.Tensor(0.0008223917, shape=(), dtype=float32)\n",
      "Loss:  tf.Tensor(0.00031253826, shape=(), dtype=float32)\n",
      "Loss:  tf.Tensor(0.00019441349, shape=(), dtype=float32)\n",
      "Loss:  tf.Tensor(0.0001514499, shape=(), dtype=float32)\n",
      "Loss:  tf.Tensor(0.00012969883, shape=(), dtype=float32)\n",
      "Loss:  tf.Tensor(0.000115467854, shape=(), dtype=float32)\n",
      "Loss:  tf.Tensor(0.00010439511, shape=(), dtype=float32)\n",
      "Loss:  tf.Tensor(9.4990886e-05, shape=(), dtype=float32)\n"
     ]
    }
   ],
   "source": [
    "for epoch in range(0, 10):\n",
    "    for _ in range(0, 10):\n",
    "        # Create fake inputs with two class\n",
    "        # Create fake inputs\n",
    "        # 1 matrice avec 2 vecteurs de 30 valeurs, premier vecteur avce des valeurs à -1 et deuxième à 1\n",
    "        inputs = np.zeros((2, 30))\n",
    "        inputs[0] -= 1\n",
    "        inputs[1] = 1\n",
    "        # Create fake targets\n",
    "        # 1 matrice avec 2 vecteurs de 1 valeur, premier vecteur avce des valeurs à 0 et deuxième à 1\n",
    "        targets = np.zeros((2, 1))\n",
    "        targets[0] = 0\n",
    "        targets[1] = 1\n",
    "        # Train the model\n",
    "        train_step(inputs, targets)\n",
    "    print(\"Loss: \" ,train_loss.result())\n",
    "    train_loss.reset_states()\n"
   ]
  },
  {
   "cell_type": "code",
   "execution_count": 31,
   "id": "14d3dca1",
   "metadata": {},
   "outputs": [
    {
     "data": {
      "text/plain": [
       "<tf.Tensor: shape=(1, 2), dtype=float32, numpy=array([[2.2915769e-05, 9.9997711e-01]], dtype=float32)>"
      ]
     },
     "execution_count": 31,
     "metadata": {},
     "output_type": "execute_result"
    }
   ],
   "source": [
    "# utilisation de notre modèle entrainé plus haut pour prédire si la valeur est 1 ou non\n",
    "# numpy=array([[2.2915769e-05, 9.9997711e-01]] on voit que la deuxième valeur est plus haute, la prédiction est donc sur 1\n",
    "\n",
    "input_ = np.zeros((1, 30)) + 1\n",
    "model(input_)"
   ]
  },
  {
   "cell_type": "code",
   "execution_count": null,
   "id": "32038a36",
   "metadata": {},
   "outputs": [],
   "source": []
  }
 ],
 "metadata": {
  "kernelspec": {
   "display_name": "Python 3 (ipykernel)",
   "language": "python",
   "name": "python3"
  },
  "language_info": {
   "codemirror_mode": {
    "name": "ipython",
    "version": 3
   },
   "file_extension": ".py",
   "mimetype": "text/x-python",
   "name": "python",
   "nbconvert_exporter": "python",
   "pygments_lexer": "ipython3",
   "version": "3.9.7"
  }
 },
 "nbformat": 4,
 "nbformat_minor": 5
}
