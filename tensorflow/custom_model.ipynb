{
 "cells": [
  {
   "cell_type": "code",
   "execution_count": 1,
   "id": "5ca6ac4a",
   "metadata": {},
   "outputs": [
    {
     "ename": "SyntaxError",
     "evalue": "invalid syntax (Temp/ipykernel_3740/2759420243.py, line 9)",
     "output_type": "error",
     "traceback": [
      "\u001b[1;36m  File \u001b[1;32m\"C:\\Users\\user\\AppData\\Local\\Temp/ipykernel_3740/2759420243.py\"\u001b[1;36m, line \u001b[1;32m9\u001b[0m\n\u001b[1;33m    self.firstLayer = tf.keras.layer.Dense(64, activation=\"relu\", name=\"first_layer\")self.firstLayer = tf.keras.layer.Dense(64, activation=\"relu\", name=\"first_layer\")\u001b[0m\n\u001b[1;37m                                                                                     ^\u001b[0m\n\u001b[1;31mSyntaxError\u001b[0m\u001b[1;31m:\u001b[0m invalid syntax\n"
     ]
    }
   ],
   "source": [
    "import tensorflow as tf\n",
    "\n",
    "# créer un model avec une classe\n",
    "\n",
    "class MyModel(tf.keras.Model):\n",
    "    \n",
    "    def __init__(self):\n",
    "        super().init()\n",
    "        self.first_layer = tf.keras.layer.Dense(64, activation=\"relu\", name=\"first_layer\")\n",
    "        self.output_layer = tf.keras.layer.Dense(10, activation=\"softmax\", name=\"output_layer\")\n",
    "        \n",
    "    def call(self, x):\n",
    "        prev = self.first_layer(x)\n",
    "        out = self.output_layer(prev)\n",
    "        return out\n",
    "\n",
    "model = MyModel()\n",
    "model.predict(images_train[0:1])"
   ]
  }
 ],
 "metadata": {
  "kernelspec": {
   "display_name": "Python 3 (ipykernel)",
   "language": "python",
   "name": "python3"
  },
  "language_info": {
   "codemirror_mode": {
    "name": "ipython",
    "version": 3
   },
   "file_extension": ".py",
   "mimetype": "text/x-python",
   "name": "python",
   "nbconvert_exporter": "python",
   "pygments_lexer": "ipython3",
   "version": "3.9.7"
  }
 },
 "nbformat": 4,
 "nbformat_minor": 5
}
