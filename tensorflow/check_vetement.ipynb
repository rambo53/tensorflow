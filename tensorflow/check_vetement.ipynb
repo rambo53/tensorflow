{
 "cells": [
  {
   "cell_type": "code",
   "execution_count": 1,
   "id": "87abb3d8",
   "metadata": {},
   "outputs": [
    {
     "name": "stdout",
     "output_type": "stream",
     "text": [
      "finish\n"
     ]
    }
   ],
   "source": [
    "import pandas as pd\n",
    "import numpy as np\n",
    "import matplotlib.pyplot as plt\n",
    "import tensorflow as tf\n",
    "from sklearn.preprocessing import StandardScaler\n",
    "\n",
    "# Fashio MNIST\n",
    "# keras = base de données google \n",
    "fashion_mnist = tf.keras.datasets.fashion_mnist\n",
    "# je récupère uniquement les images et targets\n",
    "(images, targets), (images_test, targets_test) = fashion_mnist.load_data()\n",
    "\n",
    "print(\"finish\")"
   ]
  },
  {
   "cell_type": "code",
   "execution_count": 2,
   "id": "e0bd7b26",
   "metadata": {},
   "outputs": [
    {
     "name": "stdout",
     "output_type": "stream",
     "text": [
      "(60000, 28, 28)\n",
      "(60000,)\n",
      "(10000, 28, 28)\n",
      "(10000,)\n"
     ]
    }
   ],
   "source": [
    "# Get only a subpart of the dataset\n",
    "# juste les 10 000 premières lignes, shape (10 000, 28, 28) 28 étant le nombres de pixels de chaques images\n",
    "# image contient mon image au format matrice avec mes valeurs de gris de 0 à 255, 28 lignes de 28 valeurs\n",
    "# target lui est la valeur de la catégorie associé à mon image, ex: 0 = tee shirt\n",
    "images_train = images\n",
    "targets_train = targets\n",
    "\n",
    "print(images_train.shape)\n",
    "print(targets_train.shape)\n",
    "print(images_test.shape)\n",
    "print(targets_test.shape)"
   ]
  },
  {
   "cell_type": "code",
   "execution_count": 3,
   "id": "def868d0",
   "metadata": {},
   "outputs": [
    {
     "name": "stdout",
     "output_type": "stream",
     "text": [
      "(60000, 784)\n"
     ]
    }
   ],
   "source": [
    "# ici je transforme ma matrice de 28/28 en un vecteur de 784 entrées (28x28)\n",
    "# que je convertis en float pour être sûr du type de mes data\n",
    "images_train = images.reshape(-1, 784)\n",
    "images_train = images_train.astype(float)\n",
    "\n",
    "images_test = images_test.reshape(-1, 784)\n",
    "images_test = images_test.astype(float)\n",
    "\n",
    "print(images_train.shape)"
   ]
  },
  {
   "cell_type": "code",
   "execution_count": 4,
   "id": "f7eeef52",
   "metadata": {},
   "outputs": [
    {
     "name": "stdout",
     "output_type": "stream",
     "text": [
      "[[  0   0   0   0   0   0   0   0   0   0   0   0   0   0   0   0   0   0\n",
      "    0   0   0   0   0   0   0   0   0   0]\n",
      " [  0   0   0   0   0   0   0   0   0   0   0   0   0   0   0   0   0   0\n",
      "    0   0   0   0   0   0   0   0   0   0]\n",
      " [  0   0   0   0   0   0   0   0   0   0   0   0   0   0   0   0   0   0\n",
      "    0   0   0   0   0   0   0   0   0   0]\n",
      " [  0   0   0   0   0   0   0   0   0   0   0   0   1   0   0  13  73   0\n",
      "    0   1   4   0   0   0   0   1   1   0]\n",
      " [  0   0   0   0   0   0   0   0   0   0   0   0   3   0  36 136 127  62\n",
      "   54   0   0   0   1   3   4   0   0   3]\n",
      " [  0   0   0   0   0   0   0   0   0   0   0   0   6   0 102 204 176 134\n",
      "  144 123  23   0   0   0   0  12  10   0]\n",
      " [  0   0   0   0   0   0   0   0   0   0   0   0   0   0 155 236 207 178\n",
      "  107 156 161 109  64  23  77 130  72  15]\n",
      " [  0   0   0   0   0   0   0   0   0   0   0   1   0  69 207 223 218 216\n",
      "  216 163 127 121 122 146 141  88 172  66]\n",
      " [  0   0   0   0   0   0   0   0   0   1   1   1   0 200 232 232 233 229\n",
      "  223 223 215 213 164 127 123 196 229   0]\n",
      " [  0   0   0   0   0   0   0   0   0   0   0   0   0 183 225 216 223 228\n",
      "  235 227 224 222 224 221 223 245 173   0]\n",
      " [  0   0   0   0   0   0   0   0   0   0   0   0   0 193 228 218 213 198\n",
      "  180 212 210 211 213 223 220 243 202   0]\n",
      " [  0   0   0   0   0   0   0   0   0   1   3   0  12 219 220 212 218 192\n",
      "  169 227 208 218 224 212 226 197 209  52]\n",
      " [  0   0   0   0   0   0   0   0   0   0   6   0  99 244 222 220 218 203\n",
      "  198 221 215 213 222 220 245 119 167  56]\n",
      " [  0   0   0   0   0   0   0   0   0   4   0   0  55 236 228 230 228 240\n",
      "  232 213 218 223 234 217 217 209  92   0]\n",
      " [  0   0   1   4   6   7   2   0   0   0   0   0 237 226 217 223 222 219\n",
      "  222 221 216 223 229 215 218 255  77   0]\n",
      " [  0   3   0   0   0   0   0   0   0  62 145 204 228 207 213 221 218 208\n",
      "  211 218 224 223 219 215 224 244 159   0]\n",
      " [  0   0   0   0  18  44  82 107 189 228 220 222 217 226 200 205 211 230\n",
      "  224 234 176 188 250 248 233 238 215   0]\n",
      " [  0  57 187 208 224 221 224 208 204 214 208 209 200 159 245 193 206 223\n",
      "  255 255 221 234 221 211 220 232 246   0]\n",
      " [  3 202 228 224 221 211 211 214 205 205 205 220 240  80 150 255 229 221\n",
      "  188 154 191 210 204 209 222 228 225   0]\n",
      " [ 98 233 198 210 222 229 229 234 249 220 194 215 217 241  65  73 106 117\n",
      "  168 219 221 215 217 223 223 224 229  29]\n",
      " [ 75 204 212 204 193 205 211 225 216 185 197 206 198 213 240 195 227 245\n",
      "  239 223 218 212 209 222 220 221 230  67]\n",
      " [ 48 203 183 194 213 197 185 190 194 192 202 214 219 221 220 236 225 216\n",
      "  199 206 186 181 177 172 181 205 206 115]\n",
      " [  0 122 219 193 179 171 183 196 204 210 213 207 211 210 200 196 194 191\n",
      "  195 191 198 192 176 156 167 177 210  92]\n",
      " [  0   0  74 189 212 191 175 172 175 181 185 188 189 188 193 198 204 209\n",
      "  210 210 211 188 188 194 192 216 170   0]\n",
      " [  2   0   0   0  66 200 222 237 239 242 246 243 244 221 220 193 191 179\n",
      "  182 182 181 176 166 168  99  58   0   0]\n",
      " [  0   0   0   0   0   0   0  40  61  44  72  41  35   0   0   0   0   0\n",
      "    0   0   0   0   0   0   0   0   0   0]\n",
      " [  0   0   0   0   0   0   0   0   0   0   0   0   0   0   0   0   0   0\n",
      "    0   0   0   0   0   0   0   0   0   0]\n",
      " [  0   0   0   0   0   0   0   0   0   0   0   0   0   0   0   0   0   0\n",
      "    0   0   0   0   0   0   0   0   0   0]]\n"
     ]
    }
   ],
   "source": [
    "'''\n",
    "L’idée est la suivante, on ramène toutes les valeurs de la variable entre 0 et 1,\n",
    "tout en conservant les distances entre les valeurs.\n",
    "Pour ce qui est de la standardisation, la transformation est plus subtile \n",
    "que simplement ramener l’ensemble des valeurs entre 0 et 1,\n",
    "elle a pour but de ramener la moyenne μ à 0 et l’écart-type σ à 1\n",
    "Travailler avec des données d’échelles variables peut constituer un problème dans l’analyse en ce sens\n",
    "qu’une variable numérique dont la plage de valeurs est comprise entre 0 et 10000 sera plus pesante dans l’analyse \n",
    "qu’une variable dont les valeurs sont comprises entre 0 et 1 ce qui causerait un problème de biais par la suite. \n",
    "'''\n",
    "\n",
    "'''\n",
    "fit_ trasnform calcule la moyenne et l'écart type des données puis les réajuste selon cette moyenne et cet écart type. \n",
    "Donc si on réutilise fit_transofrm sur la validation,\n",
    "potentiellement on va obtenir des données avec une moyenne légèrement différente et un écart type différent. \n",
    "Or il est préférable que les données de validation soient normalisé selon les mêmes paramètres que l'entraînement.\n",
    "'''\n",
    "\n",
    "# ici je normalise mes data pour avoir un écart moins important entre elles afin de les traiter plus rapidement\n",
    "# et ajuster mes poids de manière bien plus rapide\n",
    "scaler = StandardScaler()\n",
    "images_train = scaler.fit_transform(images_train)\n",
    "images_test = scaler.transform(images_test)\n",
    "\n",
    "print(images[0])"
   ]
  },
  {
   "cell_type": "code",
   "execution_count": 5,
   "id": "cbac43a9",
   "metadata": {},
   "outputs": [
    {
     "data": {
      "image/png": "[encoded data removed]",
      "text/plain": [
       "<Figure size 432x288 with 1 Axes>"
      ]
     },
     "metadata": {
      "needs_background": "light"
     },
     "output_type": "display_data"
    }
   ],
   "source": [
    "# liste des valeurs possibles de targets de mon dataset\n",
    "targets_names = [\"T-shirt/top\", \"Trouser\", \"Pullover\", \"Dress\", \"Coat\", \"Sandal\", \n",
    "                 \"Shirt\", \"Sneaker\", \"Bag\", \"Ankle boot\"]\n",
    "\n",
    "# Plot one image\n",
    "# reconstitue mon image en 28/28, cmap est pour le choix de couleur ici nuance de gris\n",
    "plt.imshow(np.reshape(images_train[0], (28, 28)), cmap=\"binary\")\n",
    "# récupère la valeur de targets pour mon image (9 dans ma liste = \"Ankle boot\")\n",
    "plt.title(targets_names[targets_train[0]])\n",
    "plt.show()"
   ]
  },
  {
   "cell_type": "code",
   "execution_count": 6,
   "id": "f78fcac9",
   "metadata": {},
   "outputs": [
    {
     "name": "stdout",
     "output_type": "stream",
     "text": [
      "1/1 [==============================] - 0s 163ms/step\n",
      "[[0.04027247 0.01335121 0.06468822 0.02889069 0.06917637 0.07378733\n",
      "  0.30337086 0.25297287 0.12989622 0.02359376]] [9]\n"
     ]
    }
   ],
   "source": [
    "model = tf.keras.models.Sequential()\n",
    "\n",
    "# Add the layers\n",
    "# couche de neurones ici 3 avant de donner le résultat pour ma première valeur\n",
    "# l'activation softmax me permet d'obtenir une valeur global sur mon dernier layer de 10 neurones qui sera\n",
    "# égale à 1 lors de l'addition des 10 valeurs de neurones, ex : 1 = 0.05, 2 = 0.05... 9 = 0.80\n",
    "# permet d'avoir une seule valeur dominante et ne pas risquer d'avoir 1 = 0.50, 2 = 0.50... 9 = 0.70\n",
    "model.add(tf.keras.layers.Dense(256, activation=\"relu\"))\n",
    "model.add(tf.keras.layers.Dense(128, activation=\"relu\"))\n",
    "model.add(tf.keras.layers.Dense(10, activation=\"softmax\"))\n",
    "\n",
    "model_output = model.predict(images_train[0:1])\n",
    "print(model_output, targets_train[0:1])"
   ]
  },
  {
   "cell_type": "code",
   "execution_count": 7,
   "id": "dc240d0f",
   "metadata": {},
   "outputs": [
    {
     "name": "stdout",
     "output_type": "stream",
     "text": [
      "finish\n"
     ]
    }
   ],
   "source": [
    "# Compile the model\n",
    "# le loss avec cette valeur permet d'indiquer qu'on prend la valeur de target soit par ex 9\n",
    "# avec \"categorical_crossentropy\" on aurait une représentation  de nos 9 valeurs possibles sous ce format : \n",
    "# [0,0,0,0,0,0,0,0,1] pour 9\n",
    "# [1,0,0,0,0,0,0,0,0] pour 0\n",
    "# la fonction d'erreur \"loss\" est variable en fonction du dataset analysé et du résultat attendu en sortie\n",
    "# ici on a plusieurs valeurs en sorties donc \"sparse_categorical_crossentropy\" est indiqué\n",
    "model.compile(\n",
    "    loss=\"sparse_categorical_crossentropy\",\n",
    "    optimizer=\"sgd\",\n",
    "    metrics=[\"accuracy\"]\n",
    ")\n",
    "print(\"finish\")"
   ]
  },
  {
   "cell_type": "code",
   "execution_count": 8,
   "id": "2a6ff6b8",
   "metadata": {},
   "outputs": [
    {
     "name": "stdout",
     "output_type": "stream",
     "text": [
      "Epoch 1/15\n",
      "1875/1875 [==============================] - 7s 3ms/step - loss: 0.5101 - accuracy: 0.8207 - val_loss: 0.4259 - val_accuracy: 0.8497\n",
      "Epoch 2/15\n",
      "1875/1875 [==============================] - 6s 3ms/step - loss: 0.3622 - accuracy: 0.8713 - val_loss: 0.3842 - val_accuracy: 0.8626\n",
      "Epoch 3/15\n",
      "1875/1875 [==============================] - 6s 3ms/step - loss: 0.3237 - accuracy: 0.8833 - val_loss: 0.3729 - val_accuracy: 0.8679\n",
      "Epoch 4/15\n",
      "1875/1875 [==============================] - 6s 3ms/step - loss: 0.2983 - accuracy: 0.8918 - val_loss: 0.3553 - val_accuracy: 0.8715\n",
      "Epoch 5/15\n",
      "1875/1875 [==============================] - 6s 3ms/step - loss: 0.2783 - accuracy: 0.8997 - val_loss: 0.3521 - val_accuracy: 0.8747\n",
      "Epoch 6/15\n",
      "1875/1875 [==============================] - 6s 3ms/step - loss: 0.2625 - accuracy: 0.9051 - val_loss: 0.3467 - val_accuracy: 0.8761\n",
      "Epoch 7/15\n",
      "1875/1875 [==============================] - 6s 3ms/step - loss: 0.2478 - accuracy: 0.9115 - val_loss: 0.3446 - val_accuracy: 0.8791\n",
      "Epoch 8/15\n",
      "1875/1875 [==============================] - 6s 3ms/step - loss: 0.2343 - accuracy: 0.9157 - val_loss: 0.3402 - val_accuracy: 0.8796\n",
      "Epoch 9/15\n",
      "1875/1875 [==============================] - 6s 3ms/step - loss: 0.2236 - accuracy: 0.9197 - val_loss: 0.3405 - val_accuracy: 0.8796\n",
      "Epoch 10/15\n",
      "1875/1875 [==============================] - 6s 3ms/step - loss: 0.2123 - accuracy: 0.9232 - val_loss: 0.3317 - val_accuracy: 0.8811\n",
      "Epoch 11/15\n",
      "1875/1875 [==============================] - 6s 3ms/step - loss: 0.2019 - accuracy: 0.9277 - val_loss: 0.3399 - val_accuracy: 0.8842\n",
      "Epoch 12/15\n",
      "1875/1875 [==============================] - 7s 4ms/step - loss: 0.1915 - accuracy: 0.9319 - val_loss: 0.3331 - val_accuracy: 0.8844\n",
      "Epoch 13/15\n",
      "1875/1875 [==============================] - 6s 3ms/step - loss: 0.1820 - accuracy: 0.9351 - val_loss: 0.3475 - val_accuracy: 0.8814\n",
      "Epoch 14/15\n",
      "1875/1875 [==============================] - 6s 3ms/step - loss: 0.1737 - accuracy: 0.9385 - val_loss: 0.3387 - val_accuracy: 0.8858\n",
      "Epoch 15/15\n",
      "1875/1875 [==============================] - 6s 3ms/step - loss: 0.1653 - accuracy: 0.9417 - val_loss: 0.3460 - val_accuracy: 0.8869\n"
     ]
    }
   ],
   "source": [
    "# lance les entrainement sur mon dataset d'entrainement 10 fois, puis utilise le dataset de validation à partir\n",
    "# de images_test, targets_test\n",
    "# ici j'utilise \"validation_data\" mais je peux aussi utiliser un \"validation_split\" avec en valeur un pourcentage\n",
    "# compris entre 0 et 1 (ex: 0.2) pour qu'il prenne un certain pourcentage de mon dataset d'entrainement, ici 20%\n",
    "# je vais avoir deux valeurs à surveiller \"accuracy\" et \"val_accuracy\", la première est la justesse de \n",
    "# mon dataset d'entrainement, et la deuxième est la justesse avec mon dataset de validation\n",
    "# ex : accuracy: 0.8202, val_accuracy: 0.8457\n",
    "history = model.fit(images_train, targets_train, epochs=15, validation_data=(images_test, targets_test))"
   ]
  },
  {
   "cell_type": "code",
   "execution_count": 9,
   "id": "69880d8b",
   "metadata": {},
   "outputs": [
    {
     "data": {
      "image/png": "[encoded data removed]",
      "text/plain": [
       "<Figure size 432x288 with 1 Axes>"
      ]
     },
     "metadata": {
      "needs_background": "light"
     },
     "output_type": "display_data"
    },
    {
     "data": {
      "image/png": "[encoded data removed]",
      "text/plain": [
       "<Figure size 432x288 with 1 Axes>"
      ]
     },
     "metadata": {
      "needs_background": "light"
     },
     "output_type": "display_data"
    }
   ],
   "source": [
    "# le loss va me servir pour mesurer l'écart entre la valeur résultant de mon training et la valeur attendu\n",
    "# cette valeur sera calculé pour le trainig et la validation \n",
    "# loss: 0.1636 et val_loss: 0.3456\n",
    "\n",
    "# accuracy sera le pourcentage de réussite de mon IA en training et en validation\n",
    "\n",
    "loss_curve = history.history[\"loss\"]\n",
    "acc_curve = history.history[\"accuracy\"]\n",
    "\n",
    "loss_val_curve = history.history[\"val_loss\"]\n",
    "acc_val_curve = history.history[\"val_accuracy\"]\n",
    "\n",
    "plt.plot(loss_curve, label=\"Train\")\n",
    "plt.plot(loss_val_curve, label=\"Val\")\n",
    "plt.legend(loc='upper left')\n",
    "plt.title(\"Loss\")\n",
    "plt.show()\n",
    "\n",
    "plt.plot(acc_curve, label=\"Train\")\n",
    "plt.plot(acc_val_curve, label=\"Val\")\n",
    "plt.legend(loc='upper left')\n",
    "plt.title(\"Accuracy\")\n",
    "plt.show()"
   ]
  },
  {
   "cell_type": "code",
   "execution_count": null,
   "id": "d39bd5a9",
   "metadata": {},
   "outputs": [],
   "source": [
    "# Pour sauvegarder mon model de machine learning\n",
    "# pip install h5py\n",
    "\n",
    "model.save(\"check_vetements.h5\")\n",
    "\n",
    "# pour le charger afin de l'utiliser\n",
    "model_check_vetements = tf.keras.models.load_model(\"check_vetements.h5\")\n",
    "\n",
    "# POur l'utiliser avec un nouveau jeu de données \n",
    "loss, acc = model_check_vetements.evaluate(images_test, targets_test)\n",
    "print(\"loss\", loss)\n",
    "print(\"acc\", acc)"
   ]
  }
 ],
 "metadata": {
  "kernelspec": {
   "display_name": "Python 3 (ipykernel)",
   "language": "python",
   "name": "python3"
  },
  "language_info": {
   "codemirror_mode": {
    "name": "ipython",
    "version": 3
   },
   "file_extension": ".py",
   "mimetype": "text/x-python",
   "name": "python",
   "nbconvert_exporter": "python",
   "pygments_lexer": "ipython3",
   "version": "3.9.7"
  }
 },
 "nbformat": 4,
 "nbformat_minor": 5
}
